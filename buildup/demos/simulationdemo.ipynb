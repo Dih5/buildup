{
 "cells": [
  {
   "cell_type": "markdown",
   "metadata": {},
   "source": [
    "# Creation of simulations to extend the data"
   ]
  },
  {
   "cell_type": "code",
   "execution_count": 1,
   "metadata": {},
   "outputs": [],
   "source": [
    "import buildup.simulations as _bu"
   ]
  },
  {
   "cell_type": "code",
   "execution_count": 2,
   "metadata": {},
   "outputs": [],
   "source": [
    "_bu.create_simulation(\"my-path\", [0.1,0.01,1,2,3],  # The path must exist.\n",
    "                      geometry=\"isotropic\",material_nist=27,\n",
    "                      material_fluka=\"COPPER\",density=8.92)"
   ]
  },
  {
   "cell_type": "markdown",
   "metadata": {},
   "source": [
    "Now you should open the project with flair and:\n",
    "    - Check there are no errors with the material, adding compounds or elements if needed.\n",
    "    - Compile and link the executable with the provided routine.\n",
    "    - Run the simulations, checking no errors raise.\n",
    "    - Process the data.\n",
    "    \n",
    "The \\*tab.lis files are used to generate the binary format which is used by the application. Move them to the appropriate data subdirectory and convert them using the api."
   ]
  },
  {
   "cell_type": "code",
   "execution_count": 3,
   "metadata": {},
   "outputs": [],
   "source": [
    "# Set 'overwrite' to force update.\n",
    "# The * wildcard can be used to update all materials or geometries.\n",
    "_bu.tab_data_to_bin(geometry=\"*\", material=\"*\", overwrite=False)"
   ]
  }
 ],
 "metadata": {
  "kernelspec": {
   "display_name": "Python 3",
   "language": "python",
   "name": "python3"
  },
  "language_info": {
   "codemirror_mode": {
    "name": "ipython",
    "version": 3
   },
   "file_extension": ".py",
   "mimetype": "text/x-python",
   "name": "python",
   "nbconvert_exporter": "python",
   "pygments_lexer": "ipython3",
   "version": "3.7.0"
  }
 },
 "nbformat": 4,
 "nbformat_minor": 2
}
